{
 "cells": [
  {
   "cell_type": "code",
   "execution_count": 1,
   "metadata": {},
   "outputs": [],
   "source": [
    "import os\n",
    "import json\n",
    "import datetime\n",
    "import plotly.express as px\n",
    "import pandas as pd"
   ]
  },
  {
   "cell_type": "code",
   "execution_count": 2,
   "metadata": {},
   "outputs": [],
   "source": [
    "path = 'data/instagram/'\n",
    "bgeorgakas_path = path + 'instagram-bgeorgakas-2024-04-11-9ywghq7K/your_instagram_activity/'\n",
    "about404_path = path + 'instagram-4b0ut404-2024-04-12-xkfnNfXv/your_instagram_activity'\n"
   ]
  },
  {
   "cell_type": "code",
   "execution_count": 3,
   "metadata": {},
   "outputs": [],
   "source": [
    "def get_actions(path: str, reel_comments = True) -> list:\n",
    "    with open(path + '/content/posts_1.json', 'r') as file:\n",
    "        data = json.load(file)\n",
    "\n",
    "    post_timestamps = []\n",
    "    for chunk in data:\n",
    "        for post in chunk['media']:\n",
    "            post_timestamps.append(datetime.datetime.fromtimestamp(post['creation_timestamp'])) \n",
    "\n",
    "    with open(path + '/content/stories.json', 'r') as file:\n",
    "        data = json.load(file)\n",
    "\n",
    "    stories_timestamps = []\n",
    "    for story in data['ig_stories']:\n",
    "        stories_timestamps.append(datetime.datetime.fromtimestamp(story['creation_timestamp']))\n",
    "    \n",
    "    with open(path + '/comments/post_comments_1.json', 'r') as file:\n",
    "        data = json.load(file)\n",
    "\n",
    "    post_comments_timestamps = []\n",
    "    for comment in data:\n",
    "        post_comments_timestamps.append(\n",
    "            datetime.datetime.fromtimestamp(\n",
    "                comment['string_map_data']['Time']['timestamp']\n",
    "            )\n",
    "        )\n",
    "\n",
    "    reels_comments_timestamps = []\n",
    "    if reel_comments:\n",
    "        with open(path + '/comments/reels_comments.json', 'r') as file:\n",
    "            data = json.load(file)\n",
    "\n",
    "        \n",
    "        for comment in data['comments_reels_comments']:\n",
    "            reels_comments_timestamps.append(\n",
    "                datetime.datetime.fromtimestamp(\n",
    "                    comment['string_map_data']['Time']['timestamp']\n",
    "                )\n",
    "            )\n",
    "\n",
    "    return post_timestamps + stories_timestamps + post_comments_timestamps + reels_comments_timestamps\n",
    "    "
   ]
  },
  {
   "cell_type": "code",
   "execution_count": 4,
   "metadata": {},
   "outputs": [],
   "source": [
    "bgeorgakas_actions = get_actions(bgeorgakas_path)\n",
    "about404_actions = get_actions(about404_path, reel_comments = False)"
   ]
  },
  {
   "cell_type": "code",
   "execution_count": 5,
   "metadata": {},
   "outputs": [],
   "source": [
    "actions = bgeorgakas_actions + about404_actions\n",
    "actions_df = pd.DataFrame(data = actions, columns = ['date_time'])\n",
    "actions_df = actions_df.assign(date = actions_df.date_time.dt.date)"
   ]
  },
  {
   "cell_type": "code",
   "execution_count": 6,
   "metadata": {},
   "outputs": [],
   "source": [
    "actions_df.sort_values(by = 'date_time').to_csv('data/instagram_actions.csv')"
   ]
  },
  {
   "cell_type": "code",
   "execution_count": null,
   "metadata": {},
   "outputs": [],
   "source": []
  }
 ],
 "metadata": {
  "kernelspec": {
   "display_name": "Python 3",
   "language": "python",
   "name": "python3"
  },
  "language_info": {
   "codemirror_mode": {
    "name": "ipython",
    "version": 3
   },
   "file_extension": ".py",
   "mimetype": "text/x-python",
   "name": "python",
   "nbconvert_exporter": "python",
   "pygments_lexer": "ipython3",
   "version": "3.11.8"
  }
 },
 "nbformat": 4,
 "nbformat_minor": 2
}
